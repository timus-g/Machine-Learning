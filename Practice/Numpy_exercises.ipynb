{
  "cells": [
    {
      "cell_type": "markdown",
      "metadata": {
        "id": "QR8cC5XJ5_Mq"
      },
      "source": [
        "## Solve these exercises in the codeblock below each question and compare your answer"
      ]
    },
    {
      "cell_type": "markdown",
      "metadata": {
        "id": "smBMeh6qdphr"
      },
      "source": [
        "1.Import numpy as `np` and print the version number"
      ]
    },
    {
      "cell_type": "code",
      "execution_count": 7,
      "metadata": {
        "id": "lBM0Ayq-23h7"
      },
      "outputs": [
        {
          "name": "stdout",
          "output_type": "stream",
          "text": [
            "1.26.2\n"
          ]
        }
      ],
      "source": [
        "import numpy as np\n",
        "print(np.__version__)"
      ]
    },
    {
      "cell_type": "markdown",
      "metadata": {
        "id": "HtWJT2kD_gqd"
      },
      "source": [
        "1.19.5"
      ]
    },
    {
      "cell_type": "markdown",
      "metadata": {
        "id": "PUfOe_BleIos"
      },
      "source": [
        "2.Create a 1D array of numbers from 0 to 9 Desired output"
      ]
    },
    {
      "cell_type": "code",
      "execution_count": 13,
      "metadata": {
        "id": "FR0ou8rPe6yN"
      },
      "outputs": [
        {
          "data": {
            "text/plain": [
              "array([0, 1, 2, 3, 4, 5, 6, 7, 8, 9])"
            ]
          },
          "execution_count": 13,
          "metadata": {},
          "output_type": "execute_result"
        }
      ],
      "source": [
        "#help(np.linspace)\n",
        "a=np.linspace(0,9,10,dtype=int)\n",
        "a"
      ]
    },
    {
      "cell_type": "markdown",
      "metadata": {
        "id": "OtDSu-Mj_l1X"
      },
      "source": [
        "array([0, 1, 2, 3, 4, 5, 6, 7, 8, 9])"
      ]
    },
    {
      "cell_type": "markdown",
      "metadata": {
        "id": "XmduKFswfC1D"
      },
      "source": [
        "3.Create a 3×3 numpy array of all True’s"
      ]
    },
    {
      "cell_type": "code",
      "execution_count": 18,
      "metadata": {
        "id": "31WHw8VhfDIj"
      },
      "outputs": [
        {
          "data": {
            "text/plain": [
              "array([[ True,  True,  True],\n",
              "       [ True,  True,  True],\n",
              "       [ True,  True,  True]])"
            ]
          },
          "execution_count": 18,
          "metadata": {},
          "output_type": "execute_result"
        }
      ],
      "source": [
        "a = np.ones((3,3),dtype=bool)\n",
        "a"
      ]
    },
    {
      "cell_type": "markdown",
      "metadata": {
        "id": "ofmt_ONa_uS7"
      },
      "source": [
        "array([[ True,  True,  True],</br>\n",
        "&nbsp;&nbsp;&nbsp;&nbsp;&nbsp;&nbsp;&nbsp;&nbsp;&nbsp;&nbsp;&nbsp;       [ True,  True,  True],</br>\n",
        "       &nbsp;&nbsp;&nbsp;&nbsp;&nbsp;&nbsp;&nbsp;&nbsp;&nbsp;&nbsp;&nbsp; [ True,  True,  True]])"
      ]
    },
    {
      "cell_type": "markdown",
      "metadata": {
        "id": "lxg77MNtfDaU"
      },
      "source": [
        "4.Extract all odd numbers from arr Input"
      ]
    },
    {
      "cell_type": "code",
      "execution_count": 27,
      "metadata": {
        "id": "eVL9CjahfDms"
      },
      "outputs": [
        {
          "data": {
            "text/plain": [
              "array([1, 3, 5, 7, 9])"
            ]
          },
          "execution_count": 27,
          "metadata": {},
          "output_type": "execute_result"
        }
      ],
      "source": [
        "a = np.array([0, 1, 2, 3, 4, 5, 6, 7, 8, 9])\n",
        "b = a[a%2 != 0]\n",
        "b\n"
      ]
    },
    {
      "cell_type": "markdown",
      "metadata": {
        "id": "zdedDuPACNQ2"
      },
      "source": []
    },
    {
      "cell_type": "markdown",
      "metadata": {
        "id": "DBMRn1jGAla8"
      },
      "source": [
        "5. Replace all odd numbers in arr with -1 Input: <br>\n",
        "arr = np.array([0, 1, 2, 3, 4, 5, 6, 7, 8, 9])"
      ]
    },
    {
      "cell_type": "code",
      "execution_count": 28,
      "metadata": {
        "id": "J7x-ldYuArFb"
      },
      "outputs": [
        {
          "data": {
            "text/plain": [
              "array([ 0, -1,  2, -1,  4, -1,  6, -1,  8, -1])"
            ]
          },
          "execution_count": 28,
          "metadata": {},
          "output_type": "execute_result"
        }
      ],
      "source": [
        "a[a%2 !=0 ] = -1\n",
        "a"
      ]
    },
    {
      "cell_type": "markdown",
      "metadata": {
        "id": "iH-5QbozAx9y"
      },
      "source": [
        "array([ 0, -1,  2, -1,  4, -1,  6, -1,  8, -1])"
      ]
    },
    {
      "cell_type": "markdown",
      "metadata": {
        "id": "JusSfG_vA6PL"
      },
      "source": [
        "6.Replace all odd numbers in arr with -1 without changing arr Input:\n",
        "\n",
        "arr = np.array([0, 1, 2, 3, 4, 5, 6, 7, 8, 9])"
      ]
    },
    {
      "cell_type": "code",
      "execution_count": null,
      "metadata": {
        "id": "kYXTJ4XtBIQ9"
      },
      "outputs": [],
      "source": []
    },
    {
      "cell_type": "markdown",
      "metadata": {
        "id": "D_bcutlSBG8c"
      },
      "source": [
        "out<br>\n",
        "array([ 0, -1,  2, -1,  4, -1,  6, -1,  8, -1])<br>\n",
        "arr<br>\n",
        "array([0, 1, 2, 3, 4, 5, 6, 7, 8, 9])"
      ]
    },
    {
      "cell_type": "markdown",
      "metadata": {
        "id": "qQvcI7ksfD1b"
      },
      "source": [
        "7.Convert a 1D array to a 2D array with 2 rows Input\n",
        "\n",
        "np.arange(10)\n",
        "\n",
        "array([ 0, 1, 2, 3, 4, 5, 6, 7, 8, 9])"
      ]
    },
    {
      "cell_type": "code",
      "execution_count": 33,
      "metadata": {
        "id": "rYxqYN3-fEAb"
      },
      "outputs": [
        {
          "data": {
            "text/plain": [
              "array([[0, 1, 2, 3, 4],\n",
              "       [5, 6, 7, 8, 9]])"
            ]
          },
          "execution_count": 33,
          "metadata": {},
          "output_type": "execute_result"
        }
      ],
      "source": [
        "a=np.arange(10)\n",
        "b = a.reshape(2,5)\n",
        "b"
      ]
    },
    {
      "cell_type": "markdown",
      "metadata": {
        "id": "mL7DE-EnfEJN"
      },
      "source": [
        " array([[0, 1, 2, 3, 4],<br>\n",
        "&nbsp;&nbsp;&nbsp;&nbsp;&nbsp;&nbsp;&nbsp;&nbsp;&nbsp;&nbsp;        [5, 6, 7, 8, 9]])"
      ]
    },
    {
      "cell_type": "markdown",
      "metadata": {
        "id": "o35pPSJkBvCt"
      },
      "source": [
        "8.Stack arrays a and b vertically Input\n",
        "\n",
        "a = np.arange(10).reshape(2,-1)<br>\n",
        "b = np.repeat(1, 10).reshape(2,-1)"
      ]
    },
    {
      "cell_type": "code",
      "execution_count": 60,
      "metadata": {
        "id": "adZfjwiefERz"
      },
      "outputs": [
        {
          "name": "stdout",
          "output_type": "stream",
          "text": [
            "[[0 1 2 3 4]\n",
            " [5 6 7 8 9]]\n",
            "[[1 1 1 1 1]\n",
            " [1 1 1 1 1]]\n",
            "[[0 1 2 3 4]\n",
            " [5 6 7 8 9]\n",
            " [1 1 1 1 1]\n",
            " [1 1 1 1 1]]\n"
          ]
        }
      ],
      "source": [
        "a = np.arange(10).reshape(2,-1)\n",
        "b = np.repeat(1, 10).reshape(2,-1)\n",
        "print(a)\n",
        "print(b) \n",
        "c = np.vstack((a,b))\n",
        "print(c)"
      ]
    },
    {
      "cell_type": "markdown",
      "metadata": {
        "id": "r4jIU8M_fEbQ"
      },
      "source": [
        "array([[0, 1, 2, 3, 4],<br>\n",
        "&nbsp;&nbsp;&nbsp;&nbsp;&nbsp;&nbsp;        [5, 6, 7, 8, 9],<br>\n",
        "&nbsp;&nbsp;&nbsp;&nbsp;&nbsp;&nbsp;        [1, 1, 1, 1, 1],<br>\n",
        "&nbsp;&nbsp;&nbsp;&nbsp;&nbsp;&nbsp;        [1, 1, 1, 1, 1]])"
      ]
    },
    {
      "cell_type": "markdown",
      "metadata": {
        "id": "c_Mxd_Ila5rY"
      },
      "source": [
        "9.Stack the arrays a and b horizontally. Input\n",
        "\n",
        "a = np.arange(10).reshape(2,-1)\n",
        "\n",
        "b = np.repeat(1, 10).reshape(2,-1)"
      ]
    },
    {
      "cell_type": "code",
      "execution_count": 61,
      "metadata": {
        "id": "cWlQd_r9bGUW"
      },
      "outputs": [
        {
          "name": "stdout",
          "output_type": "stream",
          "text": [
            "[[0 1 2 3 4]\n",
            " [5 6 7 8 9]]\n",
            "[[1 1 1 1 1]\n",
            " [1 1 1 1 1]]\n",
            "[[0 1 2 3 4 1 1 1 1 1]\n",
            " [5 6 7 8 9 1 1 1 1 1]]\n"
          ]
        }
      ],
      "source": [
        "a = np.arange(10).reshape(2,-1)\n",
        "\n",
        "b = np.repeat(1, 10).reshape(2,-1)\n",
        "\n",
        "print(a)\n",
        "print(b) \n",
        "c = np.hstack((a,b))\n",
        "print(c)"
      ]
    },
    {
      "cell_type": "markdown",
      "metadata": {
        "id": "aUyvs_rGbG2q"
      },
      "source": [
        "array([[0, 1, 2, 3, 4, 1, 1, 1, 1, 1],<br>\n",
        "&nbsp;&nbsp;&nbsp;&nbsp;&nbsp;&nbsp;&nbsp;&nbsp;        [5, 6, 7, 8, 9, 1, 1, 1, 1, 1]])"
      ]
    },
    {
      "cell_type": "markdown",
      "metadata": {
        "id": "0QKez4gqbVNU"
      },
      "source": [
        "10.Create the following pattern without hardcoding. Use only numpy functions and the below input array a.\n",
        "\n",
        " Input:\n",
        "\n",
        "a = np.array([1,2,3])"
      ]
    },
    {
      "cell_type": "code",
      "execution_count": 80,
      "metadata": {
        "id": "llFdmtc5bbfU"
      },
      "outputs": [
        {
          "data": {
            "text/plain": [
              "array([1, 1, 1, 2, 2, 2, 3, 3, 3, 1, 2, 3, 1, 2, 3, 1, 2, 3])"
            ]
          },
          "execution_count": 80,
          "metadata": {},
          "output_type": "execute_result"
        }
      ],
      "source": [
        "a = np.array([1,2,3])\n",
        "b = np.vstack((a,a,a)).transpose().reshape(9)\n",
        "c = np.hstack((b,a,a,a))\n",
        "c\n"
      ]
    },
    {
      "cell_type": "markdown",
      "metadata": {
        "id": "q_8Qg9Lobb1L"
      },
      "source": [
        "array([1, 1, 1, 2, 2, 2, 3, 3, 3, 1, 2, 3, 1, 2, 3, 1, 2, 3])"
      ]
    },
    {
      "cell_type": "markdown",
      "metadata": {
        "id": "RfA3swvUbmIq"
      },
      "source": [
        "11.Get the common items between a and b Input:\n",
        "\n",
        "a = np.array([1,2,3,2,3,4,3,4,5,6])\n",
        "\n",
        "b = np.array([7,2,10,2,7,4,9,4,9,8])"
      ]
    },
    {
      "cell_type": "code",
      "execution_count": 92,
      "metadata": {
        "id": "iXpoAWUrbsq1"
      },
      "outputs": [
        {
          "data": {
            "text/plain": [
              "array([2, 4, 9])"
            ]
          },
          "execution_count": 92,
          "metadata": {},
          "output_type": "execute_result"
        }
      ],
      "source": [
        "a = np.array([1,3,2,2,3,4,3,4,5,9])\n",
        "\n",
        "b = np.array([7,2,10,2,7,4,9,4,9,8])\n",
        "\n",
        "c = np.intersect1d(a,b)\n",
        "\n",
        "c"
      ]
    },
    {
      "cell_type": "markdown",
      "metadata": {
        "id": "ikB6lLoZbtAs"
      },
      "source": [
        "array([2, 4])"
      ]
    },
    {
      "cell_type": "markdown",
      "metadata": {
        "id": "-EAWoRR9c3qt"
      },
      "source": [
        "12.From array a remove all items present in array b Input:\n",
        "\n",
        "a = np.array([1,2,3,4,5])\n",
        "\n",
        "b = np.array([5,6,7,8,9])"
      ]
    },
    {
      "cell_type": "code",
      "execution_count": 104,
      "metadata": {
        "id": "20Bx6VFVc61d"
      },
      "outputs": [
        {
          "data": {
            "text/plain": [
              "array([1, 2, 3, 4])"
            ]
          },
          "execution_count": 104,
          "metadata": {},
          "output_type": "execute_result"
        }
      ],
      "source": [
        "a = np.array([1,2,3,4,5])\n",
        "a = set(a)\n",
        "b = np.array([5,6,7,8,9])\n",
        "b = set(b)\n",
        "c = a.intersection(b)\n",
        "\n",
        "a.difference_update(c)\n",
        "a = np.array(list(a))\n",
        "a"
      ]
    },
    {
      "cell_type": "markdown",
      "metadata": {
        "id": "XHRvyUE0c-vE"
      },
      "source": [
        "array([1,2,3,4])"
      ]
    },
    {
      "cell_type": "markdown",
      "metadata": {
        "id": "UM1QpCJXdAmu"
      },
      "source": [
        "13.Get the positions where elements of a and b match Input:\n",
        "\n",
        "a = np.array([1,2,3,2,3,4,3,4,5,6])\n",
        "\n",
        "b = np.array([7,2,10,2,7,4,9,4,9,8])"
      ]
    },
    {
      "cell_type": "code",
      "execution_count": 115,
      "metadata": {
        "id": "Did4t-nQdHc7"
      },
      "outputs": [
        {
          "data": {
            "text/plain": [
              "(array([1, 3, 5, 7]),)"
            ]
          },
          "execution_count": 115,
          "metadata": {},
          "output_type": "execute_result"
        }
      ],
      "source": [
        "a = np.array([1,2,3,2,3,4,3,4,5,6])\n",
        "\n",
        "b = np.array([7,2,10,2,7,4,9,4,9,8])\n",
        "\n",
        "c = np.intersect1d(a,b)\n",
        "\n",
        "d = np.where((a==c[0]) | (a==c[1]))\n",
        "\n",
        "d"
      ]
    },
    {
      "cell_type": "markdown",
      "metadata": {
        "id": "w0RJcjejdHpM"
      },
      "source": [
        "(array([1, 3, 5, 7]),)"
      ]
    },
    {
      "cell_type": "markdown",
      "metadata": {
        "id": "xSew2XnZweTr"
      },
      "source": [
        "14.Get all items between 5 and 10 from a.\n",
        "\n",
        "Input:\n",
        "\n",
        "a = np.array([2, 6, 1, 9, 10, 3, 27])"
      ]
    },
    {
      "cell_type": "code",
      "execution_count": 116,
      "metadata": {
        "id": "Tz_d2B5iwimu"
      },
      "outputs": [
        {
          "data": {
            "text/plain": [
              "array([ 6,  9, 10])"
            ]
          },
          "execution_count": 116,
          "metadata": {},
          "output_type": "execute_result"
        }
      ],
      "source": [
        "a = np.array([2, 6, 1, 9, 10, 3, 27])\n",
        "\n",
        "b = a[(a>=5) & (a<=10)]\n",
        "\n",
        "b"
      ]
    },
    {
      "cell_type": "markdown",
      "metadata": {
        "id": "IFsql2WUwiw0"
      },
      "source": [
        "(array([6, 9, 10]),)"
      ]
    },
    {
      "cell_type": "markdown",
      "metadata": {
        "id": "SP916ShDdRlF"
      },
      "source": [
        " 15.Convert the function maxx that works on two scalars, to work on two arrays.\n",
        "\n",
        " Input:\n",
        "\n",
        " def maxx(x, y):\n",
        "\n",
        "    \"\"\"Get the maximum of two items\"\"\"\n",
        "\n",
        "    if x >= y:\n",
        "\n",
        "        return x\n",
        "\n",
        "    else:\n",
        "\n",
        "        return y\n",
        "\n",
        "\n",
        "maxx(1, 5)\n",
        "\n",
        "> 5\n"
      ]
    },
    {
      "cell_type": "code",
      "execution_count": null,
      "metadata": {
        "id": "aORTjPMFdiwy"
      },
      "outputs": [],
      "source": []
    },
    {
      "cell_type": "markdown",
      "metadata": {
        "id": "2u6oa9indi7E"
      },
      "source": [
        "a = np.array([5, 7, 9, 8, 6, 4, 5])\n",
        "\n",
        "b = np.array([6, 3, 4, 8, 9, 7, 1])\n",
        "\n",
        "pair_max(a, b)\n",
        "\n",
        "array([ 6.,  7.,  9.,  8.,  9.,  7.,  5.])"
      ]
    },
    {
      "cell_type": "markdown",
      "metadata": {
        "id": "ugO5ERS-dpkZ"
      },
      "source": [
        "16.Swap columns 1 and 2 in the array arr.\n",
        "\n",
        "arr = np.arange(9).reshape(3,3)\n",
        "\n",
        "arr"
      ]
    },
    {
      "cell_type": "code",
      "execution_count": null,
      "metadata": {
        "id": "qFedDjntdz2F"
      },
      "outputs": [],
      "source": []
    },
    {
      "cell_type": "markdown",
      "metadata": {
        "id": "kJy8fCaMd0cz"
      },
      "source": [
        "> array([[1, 0, 2],\n",
        ">        [4, 3, 5],\n",
        ">        [7, 6, 8]])"
      ]
    },
    {
      "cell_type": "markdown",
      "metadata": {
        "id": "eT4Y147FfWVg"
      },
      "source": [
        "17.Swap rows 1 and 2 in the array arr:\n",
        "\n",
        "arr = np.arange(9).reshape(3,3)\n"
      ]
    },
    {
      "cell_type": "code",
      "execution_count": null,
      "metadata": {
        "id": "G7AUpycjfdbY"
      },
      "outputs": [],
      "source": []
    },
    {
      "cell_type": "markdown",
      "metadata": {
        "id": "zr4LWKKEfcid"
      },
      "source": [
        "> array([[3, 4, 5],<br>\n",
        ">        [0, 1, 2],<br>\n",
        ">        [6, 7, 8]])"
      ]
    },
    {
      "cell_type": "markdown",
      "metadata": {
        "id": "FKiPICSKflVo"
      },
      "source": [
        "18.Reverse the rows of a 2D array arr.\n",
        "\n",
        "Input\n",
        "\n",
        "arr = np.arange(9).reshape(3,3)"
      ]
    },
    {
      "cell_type": "code",
      "execution_count": null,
      "metadata": {
        "id": "FU44ihPRfqVZ"
      },
      "outputs": [],
      "source": []
    },
    {
      "cell_type": "markdown",
      "metadata": {
        "id": "-tldkiUFfqf5"
      },
      "source": [
        "array([[6, 7, 8],\n",
        "       [3, 4, 5],\n",
        "       [0, 1, 2]])"
      ]
    },
    {
      "cell_type": "markdown",
      "metadata": {
        "id": "uIhR5V1cfv_h"
      },
      "source": [
        "19.Reverse the columns of a 2D array arr.\n",
        "\n",
        " Input\n",
        "\n",
        "arr = np.arange(9).reshape(3,3)"
      ]
    },
    {
      "cell_type": "code",
      "execution_count": null,
      "metadata": {
        "id": "R6mSRn73f4xp"
      },
      "outputs": [],
      "source": []
    },
    {
      "cell_type": "markdown",
      "metadata": {
        "id": "zVbbdH2Mf42q"
      },
      "source": [
        "> array([[2, 1, 0],\n",
        ">        [5, 4, 3],\n",
        ">        [8, 7, 6]])"
      ]
    },
    {
      "cell_type": "markdown",
      "metadata": {
        "id": "uGy-vUuzf-Jo"
      },
      "source": [
        "20.Create a 2D array of shape 5×3 to contain random decimal numbers between 5 and 10"
      ]
    },
    {
      "cell_type": "code",
      "execution_count": null,
      "metadata": {
        "id": "JTcvDPQhgCTg"
      },
      "outputs": [],
      "source": []
    },
    {
      "cell_type": "markdown",
      "metadata": {
        "id": "2CXUyk8LgEcD"
      },
      "source": [
        "> [[ 8.50061025  9.10531502  6.85867783]\n",
        "\n",
        ">  [ 9.76262069  9.87717411  7.13466701]\n",
        "\n",
        ">  [ 7.48966403  8.33409158  6.16808631]\n",
        "\n",
        ">  [ 7.75010551  9.94535696  5.27373226]\n",
        "\n",
        ">  [ 8.0850361   5.56165518  7.31244004]]"
      ]
    },
    {
      "cell_type": "markdown",
      "metadata": {
        "id": "Q4ZSu92ZgNhf"
      },
      "source": [
        "21. Print or show only 3 decimal places of the numpy array\n",
        "\n",
        " Input:\n",
        "\n",
        "rand_arr = np.random.random((5,3))"
      ]
    },
    {
      "cell_type": "code",
      "execution_count": null,
      "metadata": {
        "id": "8F-q1eR6gVsR"
      },
      "outputs": [],
      "source": []
    },
    {
      "cell_type": "markdown",
      "metadata": {
        "id": "X5Bm_fFngVwx"
      },
      "source": [
        "> array([[ 0.443,  0.109,  0.97 ],\n",
        ">        [ 0.388,  0.447,  0.191],\n",
        ">        [ 0.891,  0.474,  0.212],\n",
        ">        [ 0.609,  0.518,  0.403]])"
      ]
    },
    {
      "cell_type": "markdown",
      "metadata": {
        "id": "OaitYWJagZVp"
      },
      "source": [
        "22.Pretty print rand_arr by suppressing the scientific notation (like 1e10)\n",
        "\n",
        " Input:\n",
        "\n",
        " np.random.seed(100)\n",
        "\n",
        "rand_arr = np.random.random([3,3])/1e3\n",
        "\n",
        "rand_arr\n",
        "\n",
        " array([[  5.434049e-04,   2.783694e-04,   4.245176e-04],\n",
        "\n",
        "        [  8.447761e-04,   4.718856e-06,   1.215691e-04],\n",
        "\n",
        "        [  6.707491e-04,   8.258528e-04,   1.367066e-04]])\n"
      ]
    },
    {
      "cell_type": "code",
      "execution_count": null,
      "metadata": {
        "id": "IxF530qJg4Xw"
      },
      "outputs": [],
      "source": []
    },
    {
      "cell_type": "markdown",
      "metadata": {
        "id": "4Ps9s3sGg4iA"
      },
      "source": [
        " array([[ 0.000543,  0.000278,  0.000425],<br>\n",
        "        [ 0.000845,  0.000005,  0.000122],<br>\n",
        "        [ 0.000671,  0.000826,  0.000137]])"
      ]
    },
    {
      "cell_type": "markdown",
      "metadata": {
        "id": "YAlomOBYg8PP"
      },
      "source": [
        "23.Limit the number of items printed in python numpy array a to a maximum of 6 elements.\n",
        "\n",
        "Input:\n",
        "\n",
        "a = np.arange(15)\n",
        "> array([ 0,  1,  2,  3,  4,  5,  6,  7,  8,  9, 10, 11, 12, 13, 14])"
      ]
    },
    {
      "cell_type": "code",
      "execution_count": null,
      "metadata": {
        "id": "nGP8bl6_hD3y"
      },
      "outputs": [],
      "source": []
    },
    {
      "cell_type": "markdown",
      "metadata": {
        "id": "M6J59opZhDzo"
      },
      "source": [
        "> array([ 0,  1,  2, ..., 12, 13, 14])"
      ]
    },
    {
      "cell_type": "markdown",
      "metadata": {
        "id": "a6fOGgNRhKHA"
      },
      "source": [
        "24.Print the full numpy array a without truncating.\n",
        "\n",
        " Input:\n",
        "\n",
        "np.set_printoptions(threshold=6)\n",
        "\n",
        "a = np.arange(15)\n",
        "a\n",
        "\n",
        "> array([ 0,  1,  2, ..., 12, 13, 14])"
      ]
    },
    {
      "cell_type": "code",
      "execution_count": null,
      "metadata": {
        "id": "DlxbUGo-hTlN"
      },
      "outputs": [],
      "source": []
    },
    {
      "cell_type": "markdown",
      "metadata": {
        "id": "Rza_4kZvhTem"
      },
      "source": [
        "a\n",
        "> array([ 0,  1,  2,  3,  4,  5,  6,  7,  8,  9, 10, 11, 12, 13, 14])"
      ]
    },
    {
      "cell_type": "markdown",
      "metadata": {
        "id": "qefhbirEhYoo"
      },
      "source": [
        "25.Import the iris dataset keeping the text intact."
      ]
    },
    {
      "cell_type": "code",
      "execution_count": null,
      "metadata": {
        "id": "hEFkpjunhY7o"
      },
      "outputs": [],
      "source": []
    },
    {
      "cell_type": "markdown",
      "metadata": {
        "id": "dSyGN1MMhZC7"
      },
      "source": [
        "Print the first 3 rows\n",
        "\n",
        "iris[:3]\n",
        "\n",
        "> array([[b'5.1', b'3.5', b'1.4', b'0.2', b'Iris-setosa'],<br>\n",
        ">        [b'4.9', b'3.0', b'1.4', b'0.2', b'Iris-setosa'],<br>\n",
        ">        [b'4.7', b'3.2', b'1.3', b'0.2', b'Iris-setosa']], dtype=object)"
      ]
    },
    {
      "cell_type": "markdown",
      "metadata": {
        "id": "G2wN0b9fhkRf"
      },
      "source": [
        "26.Extract the text column species from the 1D iris imported in previous question.\n",
        "\n",
        "Input:\n",
        "\n",
        "url = 'https://archive.ics.uci.edu/ml/machine-learning-databases/iris/iris.data'\n",
        "\n",
        " iris_1d = np.genfromtxt(url, delimiter=',', dtype=None)"
      ]
    },
    {
      "cell_type": "code",
      "execution_count": null,
      "metadata": {
        "id": "O_YXq22_hkZg"
      },
      "outputs": [],
      "source": []
    },
    {
      "cell_type": "markdown",
      "metadata": {
        "id": "C65g6e5BhkhA"
      },
      "source": [
        "species[:5]\n",
        "\n",
        "> array([b'Iris-setosa', b'Iris-setosa', b'Iris-setosa', b'Iris-setosa',  b'Iris-setosa'],\n",
        "    dtype='|S18')"
      ]
    },
    {
      "cell_type": "markdown",
      "metadata": {
        "id": "cKtEkk4piBfH"
      },
      "source": [
        "27.Convert the 1D iris to 2D array iris_2d by omitting the species text field.\n",
        "\n",
        "Input:\n",
        "\n",
        "url = 'https://archive.ics.uci.edu/ml/machine-learning-databases/iris/iris.data'\n",
        "iris_1d = np.genfromtxt(url, delimiter=',', dtype=None)"
      ]
    },
    {
      "cell_type": "code",
      "execution_count": null,
      "metadata": {
        "id": "yONp8LEriHZ3"
      },
      "outputs": [],
      "source": []
    },
    {
      "cell_type": "markdown",
      "metadata": {
        "id": "YDHYFJgKiHVB"
      },
      "source": [
        "iris_2d[:4]\n",
        "> array([[ 5.1,  3.5,  1.4,  0.2],<br>\n",
        ">        [ 4.9,  3. ,  1.4,  0.2],<br>\n",
        ">        [ 4.7,  3.2,  1.3,  0.2],<br>\n",
        ">        [ 4.6,  3.1,  1.5,  0.2]])"
      ]
    },
    {
      "cell_type": "markdown",
      "metadata": {
        "id": "rRkQs_S5iL2u"
      },
      "source": [
        "28.Find the mean, median, standard deviation of iris’s sepallength (1st column)\n",
        "\n",
        "url = 'https://archive.ics.uci.edu/ml/machine-learning-databases/iris/iris.data'\n",
        "iris = np.genfromtxt(url, delimiter=',', dtype='object')"
      ]
    },
    {
      "cell_type": "code",
      "execution_count": null,
      "metadata": {
        "id": "2CDd4RG1iRAQ"
      },
      "outputs": [],
      "source": []
    },
    {
      "cell_type": "markdown",
      "metadata": {
        "id": "9xMmgHwWiQQm"
      },
      "source": [
        "print(mu, med, sd)\n",
        "> 5.84333333333 5.8 0.825301291785"
      ]
    },
    {
      "cell_type": "markdown",
      "metadata": {
        "id": "8z-mK4-FiW5f"
      },
      "source": [
        "29.Create a normalized form of iris‘s sepallength whose values range exactly between 0 and 1 so that the minimum has value 0 and maximum has value 1.\n",
        "\n",
        "Input:\n",
        "\n",
        "url = 'https://archive.ics.uci.edu/ml/machine-learning-databases/iris/iris.data'\n",
        "sepallength = np.genfromtxt(url, delimiter=',', dtype='float', usecols=[0])"
      ]
    },
    {
      "cell_type": "code",
      "execution_count": null,
      "metadata": {
        "id": "F5vL3fhHidMu"
      },
      "outputs": [],
      "source": []
    },
    {
      "cell_type": "markdown",
      "metadata": {
        "id": "LVcG0RFiidXf"
      },
      "source": [
        "print(S)\n",
        "> [ 0.222  0.167  0.111  0.083  0.194  0.306  0.083  0.194  0.028  0.167<br>\n",
        ">   0.306  0.139  0.139  0.     0.417  0.389  0.306  0.222  0.389  0.222<br>\n",
        ">   0.306  0.222  0.083  0.222  0.139  0.194  0.194  0.25   0.25   0.111<br>\n",
        ">   0.139  0.306  0.25   0.333  0.167  0.194  0.333  0.167  0.028  0.222<br>\n",
        ">   0.194  0.056  0.028  0.194  0.222  0.139  0.222  0.083  0.278  0.194<br>\n",
        ">   0.75   0.583  0.722  0.333  0.611  0.389  0.556  0.167  0.639  0.25<br>\n",
        ">   0.194  0.444  0.472  0.5    0.361  0.667  0.361  0.417  0.528  0.361<br>\n",
        ">   0.444  0.5    0.556  0.5    0.583  0.639  0.694  0.667  0.472  0.389<br>\n",
        ">   0.333  0.333  0.417  0.472  0.306  0.472  0.667  0.556  0.361  0.333<br>\n",
        ">   0.333  0.5    0.417  0.194  0.361  0.389  0.389  0.528  0.222  0.389<br>\n",
        ">   0.556  0.417  0.778  0.556  0.611  0.917  0.167  0.833  0.667  0.806<br>\n",
        ">   0.611  0.583  0.694  0.389  0.417  0.583  0.611  0.944  0.944  0.472<br>\n",
        ">   0.722  0.361  0.944  0.556  0.667  0.806  0.528  0.5    0.583  0.806<br>\n",
        ">   0.861  1.     0.583  0.556  0.5    0.944  0.556  0.583  0.472  0.722<br>\n",
        ">   0.667  0.722  0.417  0.694  0.667  0.667  0.556  0.611  0.528  0.444]<br>"
      ]
    },
    {
      "cell_type": "markdown",
      "metadata": {
        "id": "fGNM4LMhimmH"
      },
      "source": [
        "30.Compute the softmax score of sepallength.\n",
        "\n",
        "url = 'https://archive.ics.uci.edu/ml/machine-learning-databases/iris/iris.data'\n",
        "sepallength = np.genfromtxt(url, delimiter=',', dtype='float', usecols=[0])"
      ]
    },
    {
      "cell_type": "code",
      "execution_count": null,
      "metadata": {
        "id": "A9TTjg0hir3r"
      },
      "outputs": [],
      "source": []
    },
    {
      "cell_type": "markdown",
      "metadata": {
        "id": "4mB-5R0Lir8L"
      },
      "source": [
        "array([ 4.6  ,  7.255])"
      ]
    },
    {
      "cell_type": "markdown",
      "metadata": {
        "id": "ZtdZGCEmyMVB"
      },
      "source": [
        "31Find the 5th and 95th percentile of iris’s sepallength\n",
        "\n",
        "url = 'https://archive.ics.uci.edu/ml/machine-learning-databases/iris/iris.data'\n",
        "\n",
        "\n",
        "sepallength = np.genfromtxt(url, delimiter=',', dtype='float', usecols=[0])"
      ]
    },
    {
      "cell_type": "code",
      "execution_count": null,
      "metadata": {
        "id": "MJLRfPLKyQ6C"
      },
      "outputs": [],
      "source": []
    },
    {
      "cell_type": "markdown",
      "metadata": {
        "id": "UsfAji7uyRTL"
      },
      "source": [
        "array([ 4.6  ,  7.255])"
      ]
    },
    {
      "cell_type": "markdown",
      "metadata": {
        "id": "OgF2RVRWi-B1"
      },
      "source": [
        "32.Insert np.nan values at 20 random positions in iris_2d dataset\n",
        "\n",
        " Input<br>\n",
        "url = 'https://archive.ics.uci.edu/ml/machine-learning-databases/iris/iris.data'\n",
        "iris_2d = np.genfromtxt(url, delimiter=',', dtype='object')"
      ]
    },
    {
      "cell_type": "code",
      "execution_count": null,
      "metadata": {
        "id": "rTvUb7aVjCwl"
      },
      "outputs": [],
      "source": []
    },
    {
      "cell_type": "markdown",
      "metadata": {
        "id": "5Hz72VsFjC1W"
      },
      "source": [
        "print(iris_2d[:10])\n",
        "> [[b'5.1' b'3.5' b'1.4' b'0.2' b'Iris-setosa']<br>\n",
        ">  [b'4.9' b'3.0' b'1.4' b'0.2' b'Iris-setosa']<br>\n",
        ">  [b'4.7' b'3.2' b'1.3' b'0.2' b'Iris-setosa']<br>\n",
        ">  [b'4.6' b'3.1' b'1.5' b'0.2' b'Iris-setosa']<br>\n",
        ">  [b'5.0' b'3.6' b'1.4' b'0.2' b'Iris-setosa']<br>\n",
        ">  [b'5.4' b'3.9' b'1.7' b'0.4' b'Iris-setosa']<br>\n",
        ">  [b'4.6' b'3.4' b'1.4' b'0.3' b'Iris-setosa']<br>\n",
        ">  [b'5.0' b'3.4' b'1.5' b'0.2' b'Iris-setosa']<br>\n",
        ">  [b'4.4' nan b'1.4' b'0.2' b'Iris-setosa']<br>\n",
        ">  [b'4.9' b'3.1' b'1.5' b'0.1' b'Iris-setosa']]"
      ]
    },
    {
      "cell_type": "markdown",
      "metadata": {
        "id": "PJn1TDPdjIh1"
      },
      "source": [
        "33.Find the number and position of missing values in iris_2d‘s sepallength (1st column)\n",
        "\n",
        " Input<br>\n",
        "url = 'https://archive.ics.uci.edu/ml/machine-learning-databases/iris/iris.data'\n",
        "\n",
        "\n",
        "iris_2d = np.genfromtxt(url, delimiter=',', dtype='float')\n",
        "\n",
        "iris_2d[np.random.randint(150, size=20), np.random.randint(4, size=20)] =\n",
        "\n",
        "\n",
        " np.nan"
      ]
    },
    {
      "cell_type": "code",
      "execution_count": null,
      "metadata": {
        "id": "XaWNjZiZjRsd"
      },
      "outputs": [],
      "source": []
    },
    {
      "cell_type": "markdown",
      "metadata": {
        "id": "-nRLG-gujROu"
      },
      "source": [
        "(array([ 39,  88,  99, 130, 147]),)"
      ]
    },
    {
      "cell_type": "markdown",
      "metadata": {
        "id": "DHPU_mUhjYHt"
      },
      "source": [
        "34.Filter the rows of iris_2d that has petallength (3rd column) > 1.5 and sepallength (1st column) < 5.0\n",
        "\n",
        " Input<br>\n",
        "url = 'https://archive.ics.uci.edu/ml/machine-learning-databases/iris/iris.data'<br>\n",
        "iris_2d = np.genfromtxt(url, delimiter=',', dtype='float', usecols=[0\n",
        ",1,2,3])"
      ]
    },
    {
      "cell_type": "code",
      "execution_count": null,
      "metadata": {
        "id": "QjqoqTSdjg20"
      },
      "outputs": [],
      "source": []
    },
    {
      "cell_type": "markdown",
      "metadata": {
        "id": "2j4me2hSjg6n"
      },
      "source": [
        "> array([[ 4.8,  3.4,  1.6,  0.2],<br>\n",
        ">        [ 4.8,  3.4,  1.9,  0.2],<br>\n",
        ">        [ 4.7,  3.2,  1.6,  0.2],<br>\n",
        ">        [ 4.8,  3.1,  1.6,  0.2],<br>\n",
        ">        [ 4.9,  2.4,  3.3,  1. ],<br>\n",
        ">        [ 4.9,  2.5,  4.5,  1.7]])"
      ]
    },
    {
      "cell_type": "markdown",
      "metadata": {
        "id": "w4LmLK3Fjk4N"
      },
      "source": [
        "35.Select the rows of iris_2d that does not have any nan value.\n",
        "\n",
        "# Input\n",
        "url = 'https://archive.ics.uci.edu/ml/machine-learning-databases/iris/iris.data'\n",
        "\n",
        "iris_2d = np.genfromtxt(url, delimiter=',', dtype='float', usecols=[0,1,2,\n",
        "3])"
      ]
    },
    {
      "cell_type": "code",
      "execution_count": null,
      "metadata": {
        "id": "SLu7ZcOXjx5_"
      },
      "outputs": [],
      "source": []
    },
    {
      "cell_type": "markdown",
      "metadata": {
        "id": "LJnXJHy3jxm2"
      },
      "source": [
        ">array([[ 4.9,  3. ,  1.4,  0.2],<br>\n",
        ">        [ 4.7,  3.2,  1.3,  0.2],<br>\n",
        ">        [ 4.6,  3.1,  1.5,  0.2],<br>\n",
        ">        [ 5. ,  3.6,  1.4,  0.2],<br>\n",
        ">        [ 5.4,  3.9,  1.7,  0.4]])"
      ]
    },
    {
      "cell_type": "markdown",
      "metadata": {
        "id": "PYpMtsNJyqFL"
      },
      "source": [
        "36.Find the correlation between SepalLength(1st column) and PetalLength(3rd column) in iris_2d\n",
        "\n",
        " Input<br>\n",
        "url = 'https://archive.ics.uci.edu/ml/machine-learning-databases/iris/iris.data'\n",
        "\n",
        "\n",
        "iris_2d = np.genfromtxt(url, delimiter=',', dtype='float', usecols=[0,1,2,3])"
      ]
    },
    {
      "cell_type": "code",
      "execution_count": null,
      "metadata": {
        "id": "EeATc7TTyxIC"
      },
      "outputs": [],
      "source": []
    },
    {
      "cell_type": "markdown",
      "metadata": {
        "id": "4h2eDTfSyxQq"
      },
      "source": [
        "> 0.871754157305"
      ]
    },
    {
      "cell_type": "markdown",
      "metadata": {
        "id": "CMjI5QIRy0TE"
      },
      "source": [
        "37.Find out if iris_2d has any missing values.\n",
        "\n",
        "Input<br>\n",
        "url = 'https://archive.ics.uci.edu/ml/machine-learning-databases/iris/iris.data'\n",
        "\n",
        "\n",
        "iris_2d = np.genfromtxt(url, delimiter=',', dtype='float', usecols=[0,1,2,3])"
      ]
    },
    {
      "cell_type": "code",
      "execution_count": null,
      "metadata": {
        "id": "eIm3z8mnzASC"
      },
      "outputs": [],
      "source": []
    },
    {
      "cell_type": "markdown",
      "metadata": {
        "id": "sZuv_k_IzAWs"
      },
      "source": [
        "FALSE"
      ]
    },
    {
      "cell_type": "markdown",
      "metadata": {
        "id": "zBcC7YwxzGVQ"
      },
      "source": [
        "38.Replace all ccurrences of nan with 0 in numpy array\n",
        "\n",
        "url = 'https://archive.ics.uci.edu/ml/machine-learning-databases/iris/iris.data'\n",
        "\n",
        "iris_2d = np.genfromtxt(url, delimiter=',', dtype='float', usecols=[0,1,2,3])\n",
        "\n",
        "iris_2d[np.random.randint(150, size=20), np.random.randint(4, size=20)] = np.nan"
      ]
    },
    {
      "cell_type": "code",
      "execution_count": null,
      "metadata": {
        "id": "NmoiCYkezMxq"
      },
      "outputs": [],
      "source": []
    },
    {
      "cell_type": "markdown",
      "metadata": {
        "id": "D4OrHLE2zM2C"
      },
      "source": [
        "> array([[ 5.1,  3.5,  1.4,  0. ],<br>\n",
        ">        [ 4.9,  3. ,  1.4,  0.2],<br>\n",
        " >     [ 4.7,  3.2,  1.3,  0.2],<br>\n",
        ">        [ 4.6,  3.1,  1.5,  0.2]])<br>"
      ]
    },
    {
      "cell_type": "markdown",
      "metadata": {
        "id": "h1mqdCUrzQTZ"
      },
      "source": [
        "39. Find the unique values and the count of unique values in iris’s species\n",
        "\n",
        " Input<br>\n",
        "url = 'https://archive.ics.uci.edu/ml/machine-learning-databases/iris/iris.data'\n",
        "\n",
        "iris = np.genfromtxt(url, delimiter=',', dtype='object')\n",
        "\n",
        "names = ('sepallength', 'sepalwidth', 'petallength', 'petalwidth', 'species')"
      ]
    },
    {
      "cell_type": "code",
      "execution_count": null,
      "metadata": {
        "id": "NzfljpBgzVmS"
      },
      "outputs": [],
      "source": []
    },
    {
      "cell_type": "markdown",
      "metadata": {
        "id": "q91Gde3pzVrq"
      },
      "source": [
        "> (array([b'Iris-setosa', b'Iris-versicolor', b'Iris-virginica'],\n",
        ">        dtype='|S15'), array([50, 50, 50]))"
      ]
    },
    {
      "cell_type": "markdown",
      "metadata": {
        "id": "S7O7Sh20zcR5"
      },
      "source": [
        "40.Difficulty Level: L2 Q. Bin the petal length (3rd) column of iris_2d to form a text array, such that if petal length is:\n",
        "\n",
        "    Less than 3 –> ‘small’\n",
        "    3-5 –> ‘medium’\n",
        "    ‘>=5 –> ‘large’\n",
        "\n",
        " Input<br>\n",
        "url = 'https://archive.ics.uci.edu/ml/machine-learning-databases/iris/iris.data'\n",
        "\n",
        "iris = np.genfromtxt(url, delimiter=',', dtype='object')\n",
        "\n",
        "names = ('sepallength', 'sepalwidth', 'petallength', 'petalwidth', 'species')"
      ]
    },
    {
      "cell_type": "code",
      "execution_count": null,
      "metadata": {
        "id": "8q82ybA-zlbg"
      },
      "outputs": [],
      "source": []
    },
    {
      "cell_type": "markdown",
      "metadata": {
        "id": "ht8W176-zlf6"
      },
      "source": [
        "<#> ['small', 'small', 'small', 'small']"
      ]
    },
    {
      "cell_type": "markdown",
      "metadata": {
        "id": "sf-9uJWpzxD6"
      },
      "source": [
        "41.Create a new column for volume in iris_2d, where volume is (pi x petallength x sepal_length^2)/3\n",
        "\n",
        " Input<br>\n",
        "url = 'https://archive.ics.uci.edu/ml/machine-learning-databases/iris/iris.data'\n",
        "\n",
        "iris_2d = np.genfromtxt(url, delimiter=',', dtype='object')\n",
        "\n",
        "names = ('sepallength', 'sepalwidth', 'petallength', 'petalwidth', 'species')"
      ]
    },
    {
      "cell_type": "code",
      "execution_count": null,
      "metadata": {
        "id": "WQSgyLfGz10x"
      },
      "outputs": [],
      "source": []
    },
    {
      "cell_type": "markdown",
      "metadata": {
        "id": "3WkYVwAsz16R"
      },
      "source": [
        "out[:4]\n",
        "> array([[b'5.1', b'3.5', b'1.4', b'0.2', b'Iris-setosa', 38.13265162927291],<br>\n",
        ">        [b'4.9', b'3.0', b'1.4', b'0.2', b'Iris-setosa', 35.200498485922445],<br>\n",
        ">        [b'4.7', b'3.2', b'1.3', b'0.2', b'Iris-setosa', 30.0723720777127],<br>\n",
        ">        [b'4.6', b'3.1', b'1.5', b'0.2', b'Iris-setosa', 33.238050274980004]], dtype=object)"
      ]
    },
    {
      "cell_type": "markdown",
      "metadata": {
        "id": "lOXs5Rf8z6eq"
      },
      "source": [
        "42.Randomly sample iris‘s species such that setose is twice the number of versicolor and virginica\n",
        "\n",
        "Import iris keeping the text column intact<br>\n",
        "url = 'https://archive.ics.uci.edu/ml/machine-learning-databases/iris/iris.data'\n",
        "\n",
        "iris = np.genfromtxt(url, delimiter=',', dtype='object')"
      ]
    },
    {
      "cell_type": "code",
      "execution_count": null,
      "metadata": {
        "id": "G720LauDz_TA"
      },
      "outputs": [],
      "source": []
    },
    {
      "cell_type": "markdown",
      "metadata": {
        "id": "XeR02AjXz_X4"
      },
      "source": [
        "> (array([b'Iris-setosa', b'Iris-versicolor', b'Iris-virginica'], dtype=object), array([77, 37, 36]))"
      ]
    },
    {
      "cell_type": "markdown",
      "metadata": {
        "id": "WX5xaT0q0ChA"
      },
      "source": [
        "43.What is the value of second longest petallength of species setosa\n",
        "\n",
        "Input<br>\n",
        "url = 'https://archive.ics.uci.edu/ml/machine-learning-databases/iris/iris.data'\n",
        "\n",
        "iris = np.genfromtxt(url, delimiter=',', dtype='object')\n",
        "\n",
        "names = ('sepallength', 'sepalwidth', 'petallength', 'petalwidth', 'species')"
      ]
    },
    {
      "cell_type": "code",
      "execution_count": null,
      "metadata": {
        "id": "Ea8wjuXD0HUI"
      },
      "outputs": [],
      "source": []
    },
    {
      "cell_type": "markdown",
      "metadata": {
        "id": "Q8TRYi9p0HYD"
      },
      "source": [
        "> 1.7"
      ]
    },
    {
      "cell_type": "markdown",
      "metadata": {
        "id": "J0C8WB9Q0LwJ"
      },
      "source": [
        "44.Sort the iris dataset based on sepallength column.\n",
        "\n",
        "url = 'https://archive.ics.uci.edu/ml/machine-learning-databases/iris/iris.data'\n",
        "\n",
        "iris = np.genfromtxt(url, delimiter=',', dtype='object')\n",
        "\n",
        "names = ('sepallength', 'sepalwidth', 'petallength', 'petalwidth', 'species')"
      ]
    },
    {
      "cell_type": "code",
      "execution_count": null,
      "metadata": {
        "id": "4lWnlCcs0Q67"
      },
      "outputs": [],
      "source": []
    },
    {
      "cell_type": "markdown",
      "metadata": {
        "id": "DgKTqG-M0Q2X"
      },
      "source": [
        "> [[b'4.3' b'3.0' b'1.1' b'0.1' b'Iris-setosa']<br>\n",
        ">  [b'4.4' b'3.2' b'1.3' b'0.2' b'Iris-setosa']<br>\n",
        ">  [b'4.4' b'3.0' b'1.3' b'0.2' b'Iris-setosa']<br>\n",
        ">  [b'4.4' b'2.9' b'1.4' b'0.2' b'Iris-setosa']<br>\n",
        ">  [b'4.5' b'2.3' b'1.3' b'0.3' b'Iris-setosa']<br>\n",
        ">  [b'4.6' b'3.6' b'1.0' b'0.2' b'Iris-setosa']<br>\n",
        ">  [b'4.6' b'3.1' b'1.5' b'0.2' b'Iris-setosa']<br>\n",
        ">  [b'4.6' b'3.4' b'1.4' b'0.3' b'Iris-setosa']<br>\n",
        ">  [b'4.6' b'3.2' b'1.4' b'0.2' b'Iris-setosa']<br>\n",
        ">  [b'4.7' b'3.2' b'1.3' b'0.2' b'Iris-setosa']<br>\n",
        ">  [b'4.7' b'3.2' b'1.6' b'0.2' b'Iris-setosa']<br>\n",
        ">  [b'4.8' b'3.0' b'1.4' b'0.1' b'Iris-setosa']<br>\n",
        ">  [b'4.8' b'3.0' b'1.4' b'0.3' b'Iris-setosa']<br>\n",
        ">  [b'4.8' b'3.4' b'1.9' b'0.2' b'Iris-setosa']<br>\n",
        ">  [b'4.8' b'3.4' b'1.6' b'0.2' b'Iris-setosa']<br>\n",
        ">  [b'4.8' b'3.1' b'1.6' b'0.2' b'Iris-setosa']<br>\n",
        ">  [b'4.9' b'2.4' b'3.3' b'1.0' b'Iris-versicolor']<br>\n",
        ">  [b'4.9' b'2.5' b'4.5' b'1.7' b'Iris-virginica']<br>\n",
        ">  [b'4.9' b'3.1' b'1.5' b'0.1' b'Iris-setosa']<br>\n",
        ">  [b'4.9' b'3.1' b'1.5' b'0.1' b'Iris-setosa']]<br>"
      ]
    },
    {
      "cell_type": "markdown",
      "metadata": {
        "id": "gkrQk_2G0Wzf"
      },
      "source": [
        "45.Find the most frequent value of petal length (3rd column) in iris dataset. Input:\n",
        "\n",
        "url = 'https://archive.ics.uci.edu/ml/machine-learning-databases/iris/iris.data'\n",
        "\n",
        "iris = np.genfromtxt(url, delimiter=',', dtype='object')\n",
        "\n",
        "names = ('sepallength', 'sepalwidth', 'petallength', 'petalwidth', 'species')"
      ]
    },
    {
      "cell_type": "code",
      "execution_count": null,
      "metadata": {
        "id": "DcuKEkjF0ba4"
      },
      "outputs": [],
      "source": []
    },
    {
      "cell_type": "markdown",
      "metadata": {
        "id": "zlsars7n0bft"
      },
      "source": [
        "> b'1.5'"
      ]
    },
    {
      "cell_type": "markdown",
      "metadata": {
        "id": "e_qAmgz60hnl"
      },
      "source": [
        "46.Find the position of the first occurrence of a value greater than 1.0 in petalwidth 4th column of iris dataset.\n",
        "\n",
        " Input:\n",
        "\n",
        "url = 'https://archive.ics.uci.edu/ml/machine-learning-databases/iris/iris.data'\n",
        "\n",
        "iris = np.genfromtxt(url, delimiter=',', dtype='object')"
      ]
    },
    {
      "cell_type": "code",
      "execution_count": null,
      "metadata": {
        "id": "mAKtZ1S50jVv"
      },
      "outputs": [],
      "source": []
    },
    {
      "cell_type": "markdown",
      "metadata": {
        "id": "K_uZImex0jag"
      },
      "source": [
        "> 50"
      ]
    },
    {
      "cell_type": "markdown",
      "metadata": {
        "id": "26vIA99e0ma7"
      },
      "source": [
        "47.From the array a, replace all values greater than 30 to 30 and less than 10 to 10.\n",
        "\n",
        "Input:\n",
        "\n",
        "np.random.seed(100)\n",
        "\n",
        "a = np.random.uniform(1,50, 20)"
      ]
    },
    {
      "cell_type": "code",
      "execution_count": null,
      "metadata": {
        "id": "jtzCtKj802sT"
      },
      "outputs": [],
      "source": []
    },
    {
      "cell_type": "markdown",
      "metadata": {
        "id": "vkVX7sZy02wS"
      },
      "source": [
        "> [ 27.63 &nbsp; 14.64 &nbsp; 21.8  &nbsp; 30. &nbsp;   10. &nbsp;   10. &nbsp;   30. &nbsp;   30. &nbsp;   10. &nbsp;   29.18 &nbsp; 30.\n",
        ">   11.25<br> &nbsp; 10.08 &nbsp; 10. &nbsp;   11.77 &nbsp; 30. &nbsp;   30. &nbsp;   10. &nbsp;   30.  &nbsp;  14.43]"
      ]
    },
    {
      "cell_type": "markdown",
      "metadata": {
        "id": "YtzTVuB_1PAG"
      },
      "source": [
        "48.Get the positions of top 5 maximum values in a given array a.\n",
        "\n",
        "np.random.seed(100)\n",
        "\n",
        "a = np.random.uniform(1,50, 20)"
      ]
    },
    {
      "cell_type": "code",
      "execution_count": null,
      "metadata": {
        "id": "Ig4L6GSV1UH5"
      },
      "outputs": [],
      "source": []
    },
    {
      "cell_type": "markdown",
      "metadata": {
        "id": "cBKO5NGk1UMJ"
      },
      "source": []
    },
    {
      "cell_type": "markdown",
      "metadata": {
        "id": "5s8_-vRY1YZx"
      },
      "source": [
        "49.Compute the counts of unique values row-wise. Input:\n",
        "\n",
        "np.random.seed(100)\n",
        "arr = np.random.randint(1,11,size=(6, 10))\n",
        "arr\n",
        "> array([[ 9,  9,  4,  8,  8,  1,  5,  3,  6,  3],<br>\n",
        ">        [ 3,  3,  2,  1,  9,  5,  1, 10,  7,  3],<br>\n",
        ">        [ 5,  2,  6,  4,  5,  5,  4,  8,  2,  2],<br>\n",
        ">        [ 8,  8,  1,  3, 10, 10,  4,  3,  6,  9],<br>\n",
        ">        [ 2,  1,  8,  7,  3,  1,  9,  3,  6,  2],<br>\n",
        ">        [ 9,  2,  6,  5,  3,  9,  4,  6,  1, 10]])"
      ]
    },
    {
      "cell_type": "code",
      "execution_count": null,
      "metadata": {
        "id": "w_f2-pQI1lgm"
      },
      "outputs": [],
      "source": []
    },
    {
      "cell_type": "markdown",
      "metadata": {
        "id": "9FJI4m0p1lac"
      },
      "source": [
        "> [[1, 0, 2, 1, 1, 1, 0, 2, 2, 0],<br>\n",
        ">  [2, 1, 3, 0, 1, 0, 1, 0, 1, 1],<br>\n",
        ">  [0, 3, 0, 2, 3, 1, 0, 1, 0, 0],<br>\n",
        ">  [1, 0, 2, 1, 0, 1, 0, 2, 1, 2],<br>\n",
        ">  [2, 2, 2, 0, 0, 1, 1, 1, 1, 0],<br>\n",
        ">  [1, 1, 1, 1, 1, 2, 0, 0, 2, 1]]"
      ]
    },
    {
      "cell_type": "markdown",
      "metadata": {
        "id": "T63ps_BV1uJm"
      },
      "source": [
        "50.Convert array_of_arrays into a flat linear 1d array. Input:\n",
        "\n",
        " Input:<br>\n",
        "arr1 = np.arange(3)\n",
        "\n",
        "arr2 = np.arange(3,7)\n",
        "\n",
        "arr3 = np.arange(7,10)\n",
        "\n",
        "array_of_arrays = np.array([arr1, arr2, arr3])\n",
        "\n",
        "array_of_arrays\n",
        "> array([array([0, 1, 2]), array([3, 4, 5, 6]), array([7, 8, 9])], dtype=object)"
      ]
    },
    {
      "cell_type": "code",
      "execution_count": null,
      "metadata": {
        "id": "oZupv116lxcJ"
      },
      "outputs": [],
      "source": []
    },
    {
      "cell_type": "markdown",
      "metadata": {
        "id": "T_FaPjqxlxvJ"
      },
      "source": [
        "> array([0, 1, 2, 3, 4, 5, 6, 7, 8, 9])"
      ]
    },
    {
      "cell_type": "markdown",
      "metadata": {
        "id": "KYHiETR4l2Qs"
      },
      "source": [
        "51.Compute the one-hot encodings (dummy binary variables for each unique value in the array) Input:\n",
        "\n",
        "np.random.seed(101) <br>\n",
        "arr = np.random.randint(1,4, size=6)<br>\n",
        "arr<br>\n",
        "> array([2, 3, 2, 2, 2, 1])"
      ]
    },
    {
      "cell_type": "code",
      "execution_count": null,
      "metadata": {
        "id": "s6WDh7rFl9ys"
      },
      "outputs": [],
      "source": []
    },
    {
      "cell_type": "markdown",
      "metadata": {
        "id": "hbdCYtuWl95b"
      },
      "source": [
        "> array([[ 0.,  1.,  0.],<br>\n",
        ">        [ 0.,  0.,  1.],<br>\n",
        ">        [ 0.,  1.,  0.],<br>\n",
        ">        [ 0.,  1.,  0.],<br>\n",
        ">        [ 0.,  1.,  0.],<br>\n",
        ">        [ 1.,  0.,  0.]])"
      ]
    },
    {
      "cell_type": "markdown",
      "metadata": {
        "id": "1gwrSy7RmC6m"
      },
      "source": [
        "52.Create row numbers grouped by a categorical variable. Use the following sample from iris species as input. Input:\n",
        "\n",
        "url = 'https://archive.ics.uci.edu/ml/machine-learning-databases/iris/iris.data'\n",
        "\n",
        "species = np.genfromtxt(url, delimiter=',', dtype='str', usecols=4)\n",
        "\n",
        "species_small = np.sort(np.random.choice(species, size=20))\n",
        "\n",
        "species_small\n",
        "> array(['Iris-setosa', 'Iris-setosa', 'Iris-setosa', 'Iris-setosa',<br>\n",
        ">        'Iris-setosa', 'Iris-setosa', 'Iris-versicolor', 'Iris-versicolor',<br>\n",
        ">        'Iris-versicolor', 'Iris-versicolor', 'Iris-versicolor',<br>\n",
        ">        'Iris-versicolor', 'Iris-virginica', 'Iris-virginica',<br>\n",
        ">        'Iris-virginica', 'Iris-virginica', 'Iris-virginica',<br>\n",
        ">        'Iris-virginica', 'Iris-virginica', 'Iris-virginica'],\n",
        ">       dtype='<U15')"
      ]
    },
    {
      "cell_type": "code",
      "execution_count": null,
      "metadata": {
        "id": "eHSkAvGAmMRc"
      },
      "outputs": [],
      "source": []
    },
    {
      "cell_type": "markdown",
      "metadata": {
        "id": "VVSV2v8kmL_-"
      },
      "source": [
        "> [0, 1, 2, 3, 4, 5, 0, 1, 2, 3, 4, 5, 0, 1, 2, 3, 4, 5, 6, 7]"
      ]
    },
    {
      "cell_type": "markdown",
      "metadata": {
        "id": "Ebz3dD0EmXs6"
      },
      "source": [
        "53.Create group ids based on a given categorical variable. Use the following sample from iris species as input. Input:\n",
        "\n",
        "url = 'https://archive.ics.uci.edu/ml/machine-learning-databases/iris/iris.data'\n",
        "\n",
        "species = np.genfromtxt(url, delimiter=',', dtype='str', usecols=4)\n",
        "\n",
        "species_small = np.sort(np.random.choice(species, size=20))\n",
        "\n",
        "species_small\n",
        "> array(['Iris-setosa', 'Iris-setosa', 'Iris-setosa', 'Iris-setosa',<br>\n",
        ">        'Iris-setosa', 'Iris-setosa', 'Iris-versicolor', 'Iris-versicolor',<br>\n",
        ">        'Iris-versicolor', 'Iris-versicolor', 'Iris-versicolor',<br>\n",
        ">        'Iris-versicolor', 'Iris-virginica', 'Iris-virginica',<br>\n",
        ">        'Iris-virginica', 'Iris-virginica', 'Iris-virginica',<br>\n",
        ">        'Iris-virginica', 'Iris-virginica', 'Iris-virginica'],\n",
        ">       dtype='<U15')"
      ]
    },
    {
      "cell_type": "code",
      "execution_count": null,
      "metadata": {
        "id": "VBf1YlzJmdLt"
      },
      "outputs": [],
      "source": []
    },
    {
      "cell_type": "markdown",
      "metadata": {
        "id": "lZPdoWKImdTE"
      },
      "source": [
        "> [0, 0, 0, 0, 0, 1, 1, 1, 1, 1, 1, 1, 1, 1, 2, 2, 2, 2, 2, 2]"
      ]
    },
    {
      "cell_type": "markdown",
      "metadata": {
        "id": "L3hNtYhJmfZQ"
      },
      "source": [
        "54.Create the ranks for the given numeric array a. Input:\n",
        "\n",
        "np.random.seed(10)\n",
        "\n",
        "a = np.random.randint(20, size=10)\n",
        "\n",
        "print(a)\n",
        "> [ 9  4 15  0 17 16 17  8  9  0]"
      ]
    },
    {
      "cell_type": "code",
      "execution_count": null,
      "metadata": {
        "id": "8MPEJPyVmon8"
      },
      "outputs": [],
      "source": []
    },
    {
      "cell_type": "markdown",
      "metadata": {
        "id": "8EsCEIkemosM"
      },
      "source": [
        "[4 2 6 0 8 7 9 3 5 1]"
      ]
    },
    {
      "cell_type": "markdown",
      "metadata": {
        "id": "aHTiuBiRmsX1"
      },
      "source": [
        "55.Create a rank array of the same shape as a given numeric array a. Input:\n",
        "\n",
        "np.random.seed(10)\n",
        "\n",
        "a = np.random.randint(20, size=[2,5])\n",
        "\n",
        "print(a)\n",
        "> [[ 9  4 15  0 17]<br>\n",
        ">  [16 17  8  9  0]]"
      ]
    },
    {
      "cell_type": "code",
      "execution_count": null,
      "metadata": {
        "id": "rmeNwDKqm2KM"
      },
      "outputs": [],
      "source": []
    },
    {
      "cell_type": "markdown",
      "metadata": {
        "id": "t5tcCCjAm2Ov"
      },
      "source": [
        "> [[4 2 6 0 8]<br>\n",
        ">  [7 9 3 5 1]]"
      ]
    },
    {
      "cell_type": "markdown",
      "metadata": {
        "id": "XB3Wg4wPm5xt"
      },
      "source": [
        "56.Compute the maximum for each row in the given array.\n",
        "\n",
        "np.random.seed(100)\n",
        "a = np.random.randint(1,10, [5,3])\n",
        "a\n",
        "> array([[9, 9, 4],<br>\n",
        ">        [8, 8, 1],<br>\n",
        ">        [5, 3, 6],<br>\n",
        ">        [3, 3, 3],<br>\n",
        ">        [2, 1, 9]])\n",
        "\n"
      ]
    },
    {
      "cell_type": "code",
      "execution_count": null,
      "metadata": {
        "id": "fcJ6bhxsnHn0"
      },
      "outputs": [],
      "source": []
    },
    {
      "cell_type": "markdown",
      "metadata": {
        "id": "zaU77mrXnHr4"
      },
      "source": [
        "> array([9, 8, 6, 3, 9])"
      ]
    },
    {
      "cell_type": "markdown",
      "metadata": {
        "id": "Dz1vNcM6nLgS"
      },
      "source": [
        "57.Compute the min-by-max for each row for given 2d numpy array.\n",
        "\n",
        "np.random.seed(100)\n",
        "a = np.random.randint(1,10, [5,3])\n",
        "a\n",
        "> array([[9, 9, 4],<br>\n",
        ">        [8, 8, 1],<br>\n",
        ">        [5, 3, 6],<br>\n",
        ">        [3, 3, 3],<br>\n",
        ">        [2, 1, 9]])<br>"
      ]
    },
    {
      "cell_type": "code",
      "execution_count": null,
      "metadata": {
        "id": "RqgentprnPLN"
      },
      "outputs": [],
      "source": []
    },
    {
      "cell_type": "markdown",
      "metadata": {
        "id": "UjekC4oqnPPC"
      },
      "source": [
        "> array([ 0.44444444,  0.125     ,  0.5       ,  1.        ,  0.11111111])"
      ]
    },
    {
      "cell_type": "markdown",
      "metadata": {
        "id": "ybh6dbDlnScX"
      },
      "source": [
        "58.ind the duplicate entries (2nd occurrence onwards) in the given numpy array and mark them as True. First time occurrences should be False.\n",
        "\n",
        " Input<br>\n",
        "np.random.seed(100)\n",
        "\n",
        "a = np.random.randint(0, 5, 10)\n",
        "\n",
        "print('Array: ', a)<br>\n",
        "> Array: [0 0 3 0 2 4 2 2 2 2]"
      ]
    },
    {
      "cell_type": "code",
      "execution_count": null,
      "metadata": {
        "id": "SGv7IWlknZ8-"
      },
      "outputs": [],
      "source": []
    },
    {
      "cell_type": "markdown",
      "metadata": {
        "id": "KZCrI7h1naCK"
      },
      "source": [
        "> [False  True False  True False False  True  True  True  True]"
      ]
    },
    {
      "cell_type": "markdown",
      "metadata": {
        "id": "2ZcSkq3onga4"
      },
      "source": [
        "59.Find the mean of a numeric column grouped by a categorical column in a 2D numpy array Input:\n",
        "\n",
        "url = 'https://archive.ics.uci.edu/ml/machine-learning-databases/iris/iris.data'\n",
        "\n",
        "iris = np.genfromtxt(url, delimiter=',', dtype='object')\n",
        "\n",
        "names = ('sepallength', 'sepalwidth', 'petallength', 'petalwidth', 'species')"
      ]
    },
    {
      "cell_type": "code",
      "execution_count": null,
      "metadata": {
        "id": "3_FZ_JsrnjGc"
      },
      "outputs": [],
      "source": []
    },
    {
      "cell_type": "markdown",
      "metadata": {
        "id": "GRuB8X9ZnjKt"
      },
      "source": [
        "> [[b'Iris-setosa', 3.418],<br>\n",
        ">  [b'Iris-versicolor', 2.770],<br>\n",
        ">  [b'Iris-virginica', 2.974]]"
      ]
    },
    {
      "cell_type": "markdown",
      "metadata": {
        "id": "gdJPqhc9n1oF"
      },
      "source": [
        "60.Import the image from the following URL and convert it to a numpy array. URL = ‘https://upload.wikimedia.org/wikipedia/commons/8/8b/Denali_Mt_McKinley.jpg"
      ]
    },
    {
      "cell_type": "code",
      "execution_count": null,
      "metadata": {
        "id": "AWVFyLqxn3xe"
      },
      "outputs": [],
      "source": []
    },
    {
      "cell_type": "markdown",
      "metadata": {
        "id": "lJvm5xiin32E"
      },
      "source": []
    },
    {
      "cell_type": "markdown",
      "metadata": {
        "id": "U8hrNa3Nn6qj"
      },
      "source": [
        "61.Drop all nan values from a 1D numpy array\n",
        "Input:\n",
        "\n",
        "np.array([1,2,3,np.nan,5,6,7,np.nan])"
      ]
    },
    {
      "cell_type": "code",
      "execution_count": null,
      "metadata": {
        "id": "Qz593NAjogvy"
      },
      "outputs": [],
      "source": []
    },
    {
      "cell_type": "markdown",
      "metadata": {
        "id": "6iphmQ7Iogzy"
      },
      "source": [
        "array([ 1.,  2.,  3.,  5.,  6.,  7.])"
      ]
    },
    {
      "cell_type": "markdown",
      "metadata": {
        "id": "loXvMUToojqR"
      },
      "source": [
        "62.Compute the euclidean distance between two arrays a and b. Input:\n",
        "\n",
        "a = np.array([1,2,3,4,5])\n",
        "\n",
        "b = np.array([4,5,6,7,8])"
      ]
    },
    {
      "cell_type": "code",
      "execution_count": null,
      "metadata": {
        "id": "oG60FLI5ootm"
      },
      "outputs": [],
      "source": []
    },
    {
      "cell_type": "markdown",
      "metadata": {
        "id": "Otlyn7Nzooyh"
      },
      "source": [
        "> 6.7082039324993694"
      ]
    },
    {
      "cell_type": "markdown",
      "metadata": {
        "id": "NJN6A7p6otE1"
      },
      "source": [
        "63.Find all the peaks in a 1D numpy array a. Peaks are points surrounded by smaller values on both sides.\n",
        "\n",
        " Input:\n",
        "\n",
        " a = np.array([1, 3, 7, 1, 2, 6, 0, 1]"
      ]
    },
    {
      "cell_type": "code",
      "execution_count": null,
      "metadata": {
        "id": "xKtFZm25o2d6"
      },
      "outputs": [],
      "source": []
    },
    {
      "cell_type": "markdown",
      "metadata": {
        "id": "trT4fvsTo2hL"
      },
      "source": [
        "> array([2, 5])<br>\n",
        "where, 2 and 5 are the positions of peak values 7 and 6."
      ]
    },
    {
      "cell_type": "markdown",
      "metadata": {
        "id": "AxvY5M3io7OC"
      },
      "source": [
        "64.Subtract the 1d array b_1d from the 2d array a_2d, such that each item of b_1d subtracts from respective row of a_2d.\n",
        "\n",
        "a_2d = np.array([[3,3,3],[4,4,4],[5,5,5]])\n",
        "\n",
        "b_1d = np.array([1,1,1]"
      ]
    },
    {
      "cell_type": "code",
      "execution_count": null,
      "metadata": {
        "id": "qxHSdrW3pHPm"
      },
      "outputs": [],
      "source": []
    },
    {
      "cell_type": "markdown",
      "metadata": {
        "id": "5ues87uDpHTs"
      },
      "source": [
        "> [[2 2 2]<br>  [2 2 2]\n",
        ">  <br>[2 2 2]]"
      ]
    },
    {
      "cell_type": "markdown",
      "metadata": {
        "id": "MuzR-4EMpKOI"
      },
      "source": [
        "65.Find the index of 5th repetition of number 1 in x.\n",
        "\n",
        "x = np.array([1, 2, 1, 1, 3, 4, 3, 1, 1, 2, 1, 1, 2])"
      ]
    },
    {
      "cell_type": "code",
      "execution_count": null,
      "metadata": {
        "id": "5U8a7SCMpPT-"
      },
      "outputs": [],
      "source": []
    },
    {
      "cell_type": "markdown",
      "metadata": {
        "id": "821feAsypPY3"
      },
      "source": [
        "> 8"
      ]
    },
    {
      "cell_type": "markdown",
      "metadata": {
        "id": "E9ScsxS1pR5X"
      },
      "source": [
        "66.Convert numpy’s datetime64 object to datetime’s datetime object\n",
        "\n",
        " Input: a numpy datetime64 object dt64 = np.datetime64('2018-02-25 22:10:10')"
      ]
    },
    {
      "cell_type": "code",
      "execution_count": null,
      "metadata": {
        "id": "IiMBMzpLpfpW"
      },
      "outputs": [],
      "source": []
    },
    {
      "cell_type": "markdown",
      "metadata": {
        "id": "0l3jFakepft7"
      },
      "source": [
        "> datetime.datetime(2018, 2, 25, 22, 10, 10)"
      ]
    },
    {
      "cell_type": "markdown",
      "metadata": {
        "id": "QoTJovEnplYP"
      },
      "source": [
        "67.Compute the moving average of window size 3, for the given 1D array. Input:\n",
        "\n",
        "np.random.seed(100)\n",
        "\n",
        "Z = np.random.randint(10, size=10)"
      ]
    },
    {
      "cell_type": "code",
      "execution_count": null,
      "metadata": {
        "id": "MgYN3VaJpr0G"
      },
      "outputs": [],
      "source": []
    },
    {
      "cell_type": "markdown",
      "metadata": {
        "id": "Fx1UleaSpr4C"
      },
      "source": [
        "> array:  [8 8 3 7 7 0 4 2 5 2]<br>\n",
        "> moving average:  [ 6.33  6.    5.67  4.67  3.67  2.    3.67  3.  ]"
      ]
    },
    {
      "cell_type": "markdown",
      "metadata": {
        "id": "Qxkci37Tpvr9"
      },
      "source": [
        "68.Create a numpy array of length 10, starting from 5 and has a step of 3 between consecutive numbers"
      ]
    },
    {
      "cell_type": "code",
      "execution_count": null,
      "metadata": {
        "id": "uVYImlMNp2RD"
      },
      "outputs": [],
      "source": []
    },
    {
      "cell_type": "markdown",
      "metadata": {
        "id": "kdy_b1wop2Y2"
      },
      "source": [
        "> array([ 5,  8, 11, 14, 17, 20, 23, 26, 29, 32])"
      ]
    },
    {
      "cell_type": "markdown",
      "metadata": {
        "id": "OmcvAnZRp7Z8"
      },
      "source": [
        "69.Given an array of a non-continuous sequence of dates. Make it a continuous sequence of dates, by filling in the missing dates. Input:\n",
        "\n",
        " Input<br>\n",
        "dates = np.arange(np.datetime64('2018-02-01'), np.datetime64('2018-02-25'), 2)\n",
        "\n",
        "print(dates)\n",
        "> ['2018-02-01' '2018-02-03' '2018-02-05' '2018-02-07' '2018-02-09'<br>\n",
        ">  '2018-02-11' '2018-02-13' '2018-02-15' '2018-02-17' '2018-02-19'<br>\n",
        ">  '2018-02-21' '2018-02-23']"
      ]
    },
    {
      "cell_type": "code",
      "execution_count": null,
      "metadata": {
        "id": "mSHqD_N-qJp0"
      },
      "outputs": [],
      "source": []
    },
    {
      "cell_type": "markdown",
      "metadata": {
        "id": "-JQcHKghqJvF"
      },
      "source": [
        "> array(['2018-02-01', '2018-02-02', '2018-02-03', '2018-02-04',<br>\n",
        ">        '2018-02-05', '2018-02-06', '2018-02-07', '2018-02-08',<br>\n",
        ">        '2018-02-09', '2018-02-10', '2018-02-11', '2018-02-12',<br>\n",
        ">        '2018-02-13', '2018-02-14', '2018-02-15', '2018-02-16',<br>\n",
        ">        '2018-02-17', '2018-02-18', '2018-02-19', '2018-02-20',<br>\n",
        ">        '2018-02-21', '2018-02-22', '2018-02-23'], dtype='datetime64[D]')"
      ]
    },
    {
      "cell_type": "markdown",
      "metadata": {
        "id": "poHHV9VnqKwT"
      },
      "source": [
        "70.From the given 1d array arr, generate a 2d matrix using strides, with a window length of 4 and strides of 2, like [[0,1,2,3], [2,3,4,5], [4,5,6,7]..] Input:\n",
        "\n",
        "arr = np.arange(15)\n",
        "\n",
        "arr<br>\n",
        "> array([ 0,  1,  2,  3,  4,  5,  6,  7,  8,  9, 10, 11, 12, 13, 14])"
      ]
    },
    {
      "cell_type": "code",
      "execution_count": null,
      "metadata": {
        "id": "jru3hpr4qREx"
      },
      "outputs": [],
      "source": []
    },
    {
      "cell_type": "markdown",
      "metadata": {
        "id": "lxK0fXYfqRIu"
      },
      "source": [
        "> [[ 0  1  2  3]<br>\n",
        ">  [ 2  3  4  5]<br>\n",
        ">  [ 4  5  6  7]<br>\n",
        ">  [ 6  7  8  9]<br>\n",
        ">  [ 8  9 10 11]<br>\n",
        ">  [10 11 12 13]]"
      ]
    }
  ],
  "metadata": {
    "colab": {
      "provenance": []
    },
    "kernelspec": {
      "display_name": "Python 3",
      "name": "python3"
    },
    "language_info": {
      "name": "python"
    }
  },
  "nbformat": 4,
  "nbformat_minor": 0
}
